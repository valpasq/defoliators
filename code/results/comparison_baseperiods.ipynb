{
 "cells": [
  {
   "cell_type": "code",
   "execution_count": 1,
   "metadata": {
    "collapsed": true,
    "deletable": true,
    "editable": true
   },
   "outputs": [],
   "source": [
    "%matplotlib inline\n",
    "\n",
    "import numpy as np\n",
    "import rasterio\n",
    "from osgeo import gdal, gdal_array\n",
    "import matplotlib.pyplot as plt\n",
    "plt.style.use('ggplot') \n",
    "\n",
    "import pandas as pd"
   ]
  },
  {
   "cell_type": "code",
   "execution_count": 51,
   "metadata": {
    "collapsed": true,
    "deletable": true,
    "editable": true
   },
   "outputs": [],
   "source": [
    "final_0515_2015_fn = '../paper_data/final_products/2015_0515_meanresiduals.tif'\n",
    "final_0414_2015_fn = '../paper_data/final_products/2015_0414_meanresiduals.tif'\n",
    "\n",
    "final_0515_2016_fn = '../paper_data/final_products/2016_0515_meanresiduals.tif'\n",
    "final_0414_2016_fn = '../paper_data/final_products/2016_0414_meanresiduals.tif'"
   ]
  },
  {
   "cell_type": "code",
   "execution_count": 52,
   "metadata": {
    "collapsed": false,
    "deletable": true,
    "editable": true
   },
   "outputs": [
    {
     "name": "stdout",
     "output_type": "stream",
     "text": [
      "(9729, 12851)\n",
      "(9729, 12851)\n",
      "(9729, 12851)\n",
      "(9729, 12851)\n"
     ]
    }
   ],
   "source": [
    "# 2015 - 2005-2015 fit\n",
    "with rasterio.open(final_0515_2015_fn) as image:\n",
    "    final_0515_2015_ds = image.read()\n",
    "    final_0515_2015 = final_0515_2015_ds[0]\n",
    "print(final_0515_2015.shape)\n",
    "\n",
    "# 2015 - 2004-2014 fit\n",
    "with rasterio.open(final_0414_2015_fn) as image:\n",
    "    final_0414_2015_ds = image.read()\n",
    "    final_0414_2015 = final_0414_2015_ds[0]\n",
    "print(final_0414_2015.shape)\n",
    "\n",
    "# 2016 - 2005-2015 fit\n",
    "with rasterio.open(final_0515_2016_fn) as image:\n",
    "    final_0515_2016_ds = image.read()\n",
    "    final_0515_2016 = final_0515_2016_ds[0]\n",
    "print(final_0515_2016.shape)\n",
    "\n",
    "# 2016 - 2004-2014 fit\n",
    "with rasterio.open(final_0414_2016_fn) as image:\n",
    "    final_0414_2016_ds = image.read()\n",
    "    final_0414_2016 = final_0414_2016_ds[0]\n",
    "print(final_0414_2016.shape)"
   ]
  },
  {
   "cell_type": "code",
   "execution_count": 53,
   "metadata": {
    "collapsed": false,
    "deletable": true,
    "editable": true
   },
   "outputs": [],
   "source": [
    "diff_2015 = (final_0515_2015 - final_0414_2015)\n",
    "diff_2016 = (final_0515_2016 - final_0414_2016)"
   ]
  },
  {
   "cell_type": "code",
   "execution_count": 5,
   "metadata": {
    "collapsed": false,
    "deletable": true,
    "editable": true
   },
   "outputs": [],
   "source": [
    "# write difference to raster\n",
    "in_ds = gdal.Open(final_0515_2015_fn, gdal.GA_ReadOnly)\n",
    "output_fn = '../paper_data/product_comp/diff_2015.tif'\n",
    "\n",
    "out_driver = gdal.GetDriverByName(\"GTiff\")\n",
    "out_ds = out_driver.Create(output_fn, \n",
    "                           diff_2015.shape[1],  # x size\n",
    "                           diff_2015.shape[0],  # y size\n",
    "                           1,  # number of bands\n",
    "                           gdal.GDT_Float64)\n",
    "out_ds.SetProjection(in_ds.GetProjection())\n",
    "out_ds.SetGeoTransform(in_ds.GetGeoTransform())\n",
    "out_ds.GetRasterBand(1).WriteArray(diff_2015)\n",
    "out_ds.GetRasterBand(1).SetNoDataValue(-9999)\n",
    "#out_ds.GetRasterBand(1).SetColorTable(ct)\n",
    "out_ds.GetRasterBand(1).SetDescription('difference - 2015')\n",
    "out_ds = None"
   ]
  },
  {
   "cell_type": "code",
   "execution_count": 6,
   "metadata": {
    "collapsed": false,
    "deletable": true,
    "editable": true
   },
   "outputs": [],
   "source": [
    "# write difference to raster\n",
    "in_ds = gdal.Open(final_0515_2016_fn, gdal.GA_ReadOnly)\n",
    "output_fn = '../paper_data/product_comp/diff_2016.tif'\n",
    "\n",
    "out_driver = gdal.GetDriverByName(\"GTiff\")\n",
    "out_ds = out_driver.Create(output_fn, \n",
    "                           diff_2016.shape[1],  # x size\n",
    "                           diff_2016.shape[0],  # y size\n",
    "                           1,  # number of bands\n",
    "                           gdal.GDT_Float64)\n",
    "out_ds.SetProjection(in_ds.GetProjection())\n",
    "out_ds.SetGeoTransform(in_ds.GetGeoTransform())\n",
    "out_ds.GetRasterBand(1).WriteArray(diff_2016)\n",
    "out_ds.GetRasterBand(1).SetNoDataValue(-9999)\n",
    "#out_ds.GetRasterBand(1).SetColorTable(ct)\n",
    "out_ds.GetRasterBand(1).SetDescription('difference - 2016')\n",
    "out_ds = None"
   ]
  },
  {
   "cell_type": "code",
   "execution_count": null,
   "metadata": {
    "collapsed": true,
    "deletable": true,
    "editable": true
   },
   "outputs": [],
   "source": []
  },
  {
   "cell_type": "code",
   "execution_count": 7,
   "metadata": {
    "collapsed": true,
    "deletable": true,
    "editable": true
   },
   "outputs": [],
   "source": [
    "RMSE_1231_0515_fn = '../paper_data/p012r031_inputs/YATSM_moths_paper_3_p012r031_harm_G_2010-07-01_refit.tif'\n",
    "RMSE_1231_0414_fn = '../paper_data/p012r031_inputs/YATSM_moths_0414_p012r031_harm_G_2010-07-01_refit.tif'\n",
    "\n",
    "RMSE_1331_0515_fn = '../paper_data/p013r031_inputs/YATSM_moths_paper_3_p013r031_harm_G_2010-07-01_refit.tif'\n",
    "RMSE_1331_0414_fn = '../paper_data/p013r031_inputs/YATSM_moths_0414_p013r031_harm_G_2010-07-01_refit.tif'"
   ]
  },
  {
   "cell_type": "code",
   "execution_count": 8,
   "metadata": {
    "collapsed": true,
    "deletable": true,
    "editable": true
   },
   "outputs": [],
   "source": [
    "with rasterio.open(RMSE_1231_0515_fn) as image:\n",
    "    RMSE_1231_0515_ds = image.read()\n",
    "    RMSE_1231_0515 = RMSE_1231_0515_ds[4] # RMSE\n",
    "    \n",
    "with rasterio.open(RMSE_1231_0414_fn) as image:\n",
    "    RMSE_1231_0414_ds = image.read()\n",
    "    RMSE_1231_0414 = RMSE_1231_0414_ds[4] # RMSE\n",
    "    \n",
    "with rasterio.open(RMSE_1331_0515_fn) as image:\n",
    "    RMSE_1331_0515_ds = image.read()\n",
    "    RMSE_1331_0515 = RMSE_1331_0515_ds[4] # RMSE\n",
    "    \n",
    "with rasterio.open(RMSE_1331_0414_fn) as image:\n",
    "    RMSE_1331_0414_ds = image.read()\n",
    "    RMSE_1331_0414 = RMSE_1331_0414_ds[4] # RMSE"
   ]
  },
  {
   "cell_type": "code",
   "execution_count": 9,
   "metadata": {
    "collapsed": true,
    "deletable": true,
    "editable": true
   },
   "outputs": [],
   "source": [
    "diff_1231_RMSE = (RMSE_1231_0515 - RMSE_1231_0414)\n",
    "diff_1331_RMSE = (RMSE_1331_0515 - RMSE_1331_0414)"
   ]
  },
  {
   "cell_type": "code",
   "execution_count": 10,
   "metadata": {
    "collapsed": true,
    "deletable": true,
    "editable": true
   },
   "outputs": [],
   "source": [
    "# write difference to raster\n",
    "in_ds = gdal.Open(RMSE_1231_0515_fn, gdal.GA_ReadOnly)\n",
    "output_fn = '../paper_data/product_comp/diff_1231_RMSE.tif'\n",
    "\n",
    "out_driver = gdal.GetDriverByName(\"GTiff\")\n",
    "out_ds = out_driver.Create(output_fn, \n",
    "                           diff_1231_RMSE.shape[1],  # x size\n",
    "                           diff_1231_RMSE.shape[0],  # y size\n",
    "                           1,  # number of bands\n",
    "                           gdal.GDT_Float64)\n",
    "out_ds.SetProjection(in_ds.GetProjection())\n",
    "out_ds.SetGeoTransform(in_ds.GetGeoTransform())\n",
    "out_ds.GetRasterBand(1).WriteArray(diff_1231_RMSE)\n",
    "out_ds.GetRasterBand(1).SetNoDataValue(-9999)\n",
    "#out_ds.GetRasterBand(1).SetColorTable(ct)\n",
    "out_ds.GetRasterBand(1).SetDescription('RMSE - p012r031')\n",
    "out_ds = None"
   ]
  },
  {
   "cell_type": "code",
   "execution_count": 11,
   "metadata": {
    "collapsed": true,
    "deletable": true,
    "editable": true
   },
   "outputs": [],
   "source": [
    "# write difference to raster\n",
    "in_ds = gdal.Open(RMSE_1331_0515_fn, gdal.GA_ReadOnly)\n",
    "output_fn = '../paper_data/product_comp/diff_1331_RMSE.tif'\n",
    "\n",
    "out_driver = gdal.GetDriverByName(\"GTiff\")\n",
    "out_ds = out_driver.Create(output_fn, \n",
    "                           diff_1331_RMSE.shape[1],  # x size\n",
    "                           diff_1331_RMSE.shape[0],  # y size\n",
    "                           1,  # number of bands\n",
    "                           gdal.GDT_Float64)\n",
    "out_ds.SetProjection(in_ds.GetProjection())\n",
    "out_ds.SetGeoTransform(in_ds.GetGeoTransform())\n",
    "out_ds.GetRasterBand(1).WriteArray(diff_1331_RMSE)\n",
    "out_ds.GetRasterBand(1).SetNoDataValue(-9999)\n",
    "#out_ds.GetRasterBand(1).SetColorTable(ct)\n",
    "out_ds.GetRasterBand(1).SetDescription('RMSE - p013r031')\n",
    "out_ds = None"
   ]
  },
  {
   "cell_type": "code",
   "execution_count": null,
   "metadata": {
    "collapsed": true,
    "deletable": true,
    "editable": true
   },
   "outputs": [],
   "source": []
  },
  {
   "cell_type": "code",
   "execution_count": 20,
   "metadata": {
    "collapsed": true,
    "deletable": true,
    "editable": true
   },
   "outputs": [],
   "source": [
    "FHTE_fn = '/projectnb/landsat/projects/Massachusetts/Moths/GIS_data/FHTE_ref/RI2_2015_aYs_2015_2016_jDs_140_200_NDVI_hybrid_ZScore.tif'\n",
    "\n",
    "with rasterio.open(FHTE_fn) as image:\n",
    "    FHTE_ds = image.read()\n",
    "    FHTE = FHTE_ds[0] \n"
   ]
  },
  {
   "cell_type": "code",
   "execution_count": 22,
   "metadata": {
    "collapsed": false,
    "deletable": true,
    "editable": true
   },
   "outputs": [],
   "source": [
    "FHTE_2016 = np.zeros(FHTE.shape)\n",
    "FHTE_2016[FHTE == 3] = 1\n",
    "FHTE_2016[FHTE == 4] = 1\n",
    "\n",
    "# write difference to raster\n",
    "in_ds = gdal.Open(FHTE_fn, gdal.GA_ReadOnly)\n",
    "output_fn = '../paper_data/product_comp/2016_FHTE_mask.tif'\n",
    "\n",
    "out_driver = gdal.GetDriverByName(\"GTiff\")\n",
    "out_ds = out_driver.Create(output_fn, \n",
    "                           FHTE_2016.shape[1],  # x size\n",
    "                           FHTE_2016.shape[0],  # y size\n",
    "                           1,  # number of bands\n",
    "                           gdal.GDT_Float64)\n",
    "out_ds.SetProjection(in_ds.GetProjection())\n",
    "out_ds.SetGeoTransform(in_ds.GetGeoTransform())\n",
    "out_ds.GetRasterBand(1).WriteArray(FHTE_2016)\n",
    "out_ds.GetRasterBand(1).SetNoDataValue(0)\n",
    "#out_ds.GetRasterBand(1).SetColorTable(ct)\n",
    "out_ds.GetRasterBand(1).SetDescription('2016 FHTE')\n",
    "out_ds = None"
   ]
  },
  {
   "cell_type": "code",
   "execution_count": 23,
   "metadata": {
    "collapsed": false,
    "deletable": true,
    "editable": true
   },
   "outputs": [],
   "source": [
    "    \n",
    "FHTE_2015 = np.zeros(FHTE.shape)\n",
    "FHTE_2015[FHTE == 2] = 1\n",
    "FHTE_2015[FHTE == 3] = 1\n",
    "\n",
    "# write difference to raster\n",
    "in_ds = gdal.Open(FHTE_fn, gdal.GA_ReadOnly)\n",
    "output_fn = '../paper_data/product_comp/2015_FHTE_mask.tif'\n",
    "\n",
    "out_driver = gdal.GetDriverByName(\"GTiff\")\n",
    "out_ds = out_driver.Create(output_fn, \n",
    "                           FHTE_2015.shape[1],  # x size\n",
    "                           FHTE_2015.shape[0],  # y size\n",
    "                           1,  # number of bands\n",
    "                           gdal.GDT_Float64)\n",
    "out_ds.SetProjection(in_ds.GetProjection())\n",
    "out_ds.SetGeoTransform(in_ds.GetGeoTransform())\n",
    "out_ds.GetRasterBand(1).WriteArray(FHTE_2015)\n",
    "out_ds.GetRasterBand(1).SetNoDataValue(0)\n",
    "#out_ds.GetRasterBand(1).SetColorTable(ct)\n",
    "out_ds.GetRasterBand(1).SetDescription('2015 FHTE')\n",
    "out_ds = None"
   ]
  },
  {
   "cell_type": "markdown",
   "metadata": {
    "collapsed": false,
    "deletable": true,
    "editable": true
   },
   "source": [
    "## Difference between stable periods - with NLCD forest mask"
   ]
  },
  {
   "cell_type": "code",
   "execution_count": 2,
   "metadata": {
    "collapsed": true,
    "deletable": true,
    "editable": true
   },
   "outputs": [],
   "source": [
    "final_0515_2015_mask_fn = '../paper_data/final_products/2015_0515_meanresiduals_withmask.tif'\n",
    "final_0414_2015_mask_fn = '../paper_data/final_products/2015_0414_meanresiduals_withmask.tif'\n",
    "\n",
    "final_0515_2016_mask_fn = '../paper_data/final_products/2016_0515_meanresiduals_withmask.tif'\n",
    "final_0414_2016_mask_fn = '../paper_data/final_products/2016_0414_meanresiduals_withmask.tif'"
   ]
  },
  {
   "cell_type": "code",
   "execution_count": 3,
   "metadata": {
    "collapsed": false,
    "deletable": true,
    "editable": true
   },
   "outputs": [
    {
     "name": "stdout",
     "output_type": "stream",
     "text": [
      "(9729, 12851)\n",
      "(9729, 12851)\n",
      "(9729, 12851)\n",
      "(9729, 12851)\n"
     ]
    }
   ],
   "source": [
    "# 2015 - 2005-2015 fit\n",
    "with rasterio.open(final_0515_2015_mask_fn) as image:\n",
    "    final_0515_2015_ds = image.read()\n",
    "    final_0515_2015 = final_0515_2015_ds[0]\n",
    "    final_0515_2015_m = final_0515_2015_ds[1]\n",
    "print(final_0515_2015.shape)\n",
    "\n",
    "# 2015 - 2004-2014 fit\n",
    "with rasterio.open(final_0414_2015_mask_fn) as image:\n",
    "    final_0414_2015_ds = image.read()\n",
    "    final_0414_2015 = final_0414_2015_ds[0]\n",
    "    final_0414_2015_m = final_0414_2015_ds[1]\n",
    "print(final_0414_2015.shape)\n",
    "\n",
    "# 2016 - 2005-2015 fit\n",
    "with rasterio.open(final_0515_2016_mask_fn) as image:\n",
    "    final_0515_2016_ds = image.read()\n",
    "    final_0515_2016 = final_0515_2016_ds[0]\n",
    "    final_0515_2016_m = final_0515_2016_ds[1]\n",
    "print(final_0515_2016.shape)\n",
    "\n",
    "# 2016 - 2004-2014 fit\n",
    "with rasterio.open(final_0414_2016_mask_fn) as image:\n",
    "    final_0414_2016_ds = image.read()\n",
    "    final_0414_2016 = final_0414_2016_ds[0]\n",
    "    final_0414_2016_m = final_0414_2016_ds[1]\n",
    "print(final_0414_2016.shape)"
   ]
  },
  {
   "cell_type": "code",
   "execution_count": 4,
   "metadata": {
    "collapsed": false,
    "deletable": true,
    "editable": true
   },
   "outputs": [],
   "source": [
    "diff_2015 = (final_0515_2015 - final_0414_2015)\n",
    "diff_2016 = (final_0515_2016 - final_0414_2016)"
   ]
  },
  {
   "cell_type": "code",
   "execution_count": 5,
   "metadata": {
    "collapsed": false,
    "deletable": true,
    "editable": true
   },
   "outputs": [
    {
     "data": {
      "image/png": "[encoded data removed]",
      "text/plain": [
       "<matplotlib.figure.Figure at 0x2b30c2ac6e50>"
      ]
     },
     "metadata": {},
     "output_type": "display_data"
    }
   ],
   "source": [
    "diff_2015[np.where(final_0414_2015_m == 0)] = np.nan\n",
    "diff_2016[np.where(final_0515_2016_m == 0)] = np.nan\n",
    "\n",
    "fig = plt.figure(figsize=(8,3))\n",
    "ax1 = fig.add_subplot(1,2,1)\n",
    "plt.hist(diff_2015[~np.isnan(diff_2015)], bins=np.arange(-1.25, 2.5, 0.5))\n",
    "plt.title('2015: 05/15 - 04/14')\n",
    "plt.xlim(-2.5, 2.5)\n",
    "plt.xlabel('diff in mean residuals')\n",
    "plt.ylabel('# of forested pixels')\n",
    "\n",
    "ax2 = fig.add_subplot(1,2,2)\n",
    "plt.hist(diff_2016[~np.isnan(diff_2016)], bins=np.arange(-1.25, 2.5, 0.5))\n",
    "plt.title('2016: 05/15 - 04/14')\n",
    "plt.xlim(-2.5, 2.5)\n",
    "plt.xlabel('diff in mean residuals')\n",
    "plt.ylabel('# of forested pixels')\n",
    "\n",
    "plt.tight_layout()\n",
    "plt.show()"
   ]
  },
  {
   "cell_type": "code",
   "execution_count": 45,
   "metadata": {
    "collapsed": false,
    "deletable": true,
    "editable": true
   },
   "outputs": [
    {
     "data": {
      "image/png": "[encoded data removed]",
      "text/plain": [
       "<matplotlib.figure.Figure at 0x2b322d7b8850>"
      ]
     },
     "metadata": {},
     "output_type": "display_data"
    }
   ],
   "source": [
    "data = [diff_2015[~np.isnan(diff_2015)], diff_2016[~np.isnan(diff_2016)]]\n",
    "medianprops = dict(linestyle='-', linewidth=1, color='green')\n",
    "#plt.boxplot(diff_2015[~np.isnan(diff_2015)], 0, '')\n",
    "#plt.boxplot(diff_2016[~np.isnan(diff_2016)], 0, '')\n",
    "labels = ['2015', '2016']\n",
    "plt.boxplot(data, labels=labels, showfliers=False, meanline=True, showmeans=True, medianprops=medianprops)\n",
    "plt.ylabel('diff in mean residuals')\n",
    "plt.title('Difference in mean residuals: 0515 base - 0414 base')\n",
    "plt.savefig('residuals_boxplots.png')\n",
    "plt.show()"
   ]
  },
  {
   "cell_type": "code",
   "execution_count": 50,
   "metadata": {
    "collapsed": false,
    "deletable": true,
    "editable": true
   },
   "outputs": [],
   "source": [
    "diff_2015_abs = abs((final_0515_2015) - (final_0414_2015))\n",
    "diff_2016_abs = abs((final_0515_2016) - (final_0414_2016))\n",
    "diff_2015_abs[np.where(final_0414_2015_m == 0)] = np.nan\n",
    "diff_2016_abs[np.where(final_0515_2016_m == 0)] = np.nan"
   ]
  },
  {
   "cell_type": "code",
   "execution_count": 51,
   "metadata": {
    "collapsed": false,
    "deletable": true,
    "editable": true
   },
   "outputs": [
    {
     "data": {
      "image/png": "[encoded data removed]",
      "text/plain": [
       "<matplotlib.figure.Figure at 0x2b32444938d0>"
      ]
     },
     "metadata": {},
     "output_type": "display_data"
    }
   ],
   "source": [
    "data = [diff_2015_abs[~np.isnan(diff_2015_abs)], diff_2016_abs[~np.isnan(diff_2016_abs)]]\n",
    "medianprops = dict(linestyle='-', linewidth=1, color='green')\n",
    "#plt.boxplot(diff_2015[~np.isnan(diff_2015)], 0, '')\n",
    "#plt.boxplot(diff_2016[~np.isnan(diff_2016)], 0, '')\n",
    "labels = ['2015', '2016']\n",
    "plt.boxplot(data, labels=labels, showfliers=False, meanline=True, showmeans=True, medianprops=medianprops)\n",
    "plt.ylabel('diff in mean residuals')\n",
    "plt.title('Absolute difference in mean residuals: 0515 base - 0414 base')\n",
    "plt.savefig('residuals_boxplots_abs.png')\n",
    "plt.show()"
   ]
  },
  {
   "cell_type": "code",
   "execution_count": null,
   "metadata": {
    "collapsed": false,
    "deletable": true,
    "editable": true
   },
   "outputs": [],
   "source": []
  },
  {
   "cell_type": "code",
   "execution_count": null,
   "metadata": {
    "collapsed": true,
    "deletable": true,
    "editable": true
   },
   "outputs": [],
   "source": []
  },
  {
   "cell_type": "code",
   "execution_count": null,
   "metadata": {
    "collapsed": true,
    "deletable": true,
    "editable": true
   },
   "outputs": [],
   "source": []
  }
 ],
 "metadata": {
  "anaconda-cloud": {},
  "kernelspec": {
   "display_name": "Python 2",
   "language": "python",
   "name": "python2"
  },
  "language_info": {
   "codemirror_mode": {
    "name": "ipython",
    "version": 2
   },
   "file_extension": ".py",
   "mimetype": "text/x-python",
   "name": "python",
   "nbconvert_exporter": "python",
   "pygments_lexer": "ipython2",
   "version": "2.7.12"
  }
 },
 "nbformat": 4,
 "nbformat_minor": 1
}
