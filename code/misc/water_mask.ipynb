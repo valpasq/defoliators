{
 "cells": [
  {
   "cell_type": "code",
   "execution_count": 2,
   "metadata": {
    "collapsed": true,
    "deletable": true,
    "editable": true
   },
   "outputs": [],
   "source": [
    "%matplotlib inline\n",
    "\n",
    "import numpy as np\n",
    "import rasterio\n",
    "from osgeo import gdal, gdal_array"
   ]
  },
  {
   "cell_type": "code",
   "execution_count": 30,
   "metadata": {
    "collapsed": false,
    "deletable": true,
    "editable": true
   },
   "outputs": [],
   "source": [
    "# Generate list of TCW harmonic images\n",
    "p011r031 = '/projectnb/landsat/projects/Massachusetts/ForestClassification_2/images/YATSM_display_p011r031_harm_W_2005-07-01_refit_WRSclip_albers.tif'\n",
    "p012r030 = '/projectnb/landsat/projects/Massachusetts/ForestClassification_2/images/YATSM_display_p012r030_harm_W_2005-07-01_refit_WRSclip_albers.tif'\n",
    "p012r031 = '/projectnb/landsat/projects/Massachusetts/ForestClassification_2/images/YATSM_display_p012r031_harm_W_2005-07-01_refit_WRSclip_albers.tif'\n",
    "p013r030 = '/projectnb/landsat/projects/Massachusetts/ForestClassification_2/images/YATSM_display_p013r030_harm_W_2005-07-01_refit_WRSclip_albers.tif'\n",
    "p013r031 = '/projectnb/landsat/projects/Massachusetts/ForestClassification_2/images/YATSM_display_p013r031_harm_W_2005-07-01_refit_WRSclip_albers.tif'\n",
    "scene_fns = [p011r031, p012r030, p012r031, p013r030, p013r031]\n",
    "scenes = ['p011r031', 'p012r030', 'p012r031', 'p013r030', 'p013r031']"
   ]
  },
  {
   "cell_type": "code",
   "execution_count": null,
   "metadata": {
    "collapsed": false
   },
   "outputs": [],
   "source": []
  },
  {
   "cell_type": "code",
   "execution_count": 33,
   "metadata": {
    "collapsed": false,
    "deletable": true,
    "editable": true
   },
   "outputs": [
    {
     "name": "stdout",
     "output_type": "stream",
     "text": [
      "/projectnb/landsat/projects/Massachusetts/ForestClassification_2/images/YATSM_display_p011r031_harm_W_2005-07-01_refit_WRSclip_albers.tif\n",
      "p011r031\n",
      "/projectnb/landsat/projects/Massachusetts/ForestClassification_2/images/YATSM_display_p012r030_harm_W_2005-07-01_refit_WRSclip_albers.tif\n",
      "p012r030\n",
      "/projectnb/landsat/projects/Massachusetts/ForestClassification_2/images/YATSM_display_p012r031_harm_W_2005-07-01_refit_WRSclip_albers.tif\n",
      "p012r031\n",
      "/projectnb/landsat/projects/Massachusetts/ForestClassification_2/images/YATSM_display_p013r030_harm_W_2005-07-01_refit_WRSclip_albers.tif\n",
      "p013r030\n",
      "/projectnb/landsat/projects/Massachusetts/ForestClassification_2/images/YATSM_display_p013r031_harm_W_2005-07-01_refit_WRSclip_albers.tif\n",
      "p013r031\n"
     ]
    }
   ],
   "source": [
    "for scene_fn, scene in zip(scene_fns,scenes):\n",
    "    print(scene_fn)\n",
    "    print(scene)\n",
    "    with rasterio.open(scene_fn) as image:\n",
    "        scene_ds = image.read()\n",
    "        water_mask = scene_ds[0] # read intercept for TCW\n",
    "\n",
    "    water_mask[water_mask < 0] = 0\n",
    "    water_mask[water_mask > 0] = 1\n",
    "\n",
    "    # write difference to raster\n",
    "    in_ds = gdal.Open(scene_fn, gdal.GA_ReadOnly)\n",
    "    output_fn = '/projectnb/landsat/projects/Massachusetts/ForestClassification_2/images/{scene}_watermask.tif'.format(scene=scene)\n",
    "\n",
    "    out_driver = gdal.GetDriverByName(\"GTiff\")\n",
    "    out_ds = out_driver.Create(output_fn, \n",
    "                               water_mask.shape[1],  # x size\n",
    "                               water_mask.shape[0],  # y size\n",
    "                               1,  # number of bands\n",
    "                               gdal.GDT_Int16)\n",
    "    out_ds.SetProjection(in_ds.GetProjection())\n",
    "    out_ds.SetGeoTransform(in_ds.GetGeoTransform())\n",
    "    out_ds.GetRasterBand(1).WriteArray(water_mask)\n",
    "    out_ds.GetRasterBand(1).SetNoDataValue(0)\n",
    "    #out_ds.GetRasterBand(1).SetColorTable(ct)\n",
    "    out_ds.GetRasterBand(1).SetDescription('water mask based on TCW harmonic intercept')\n",
    "    out_ds = None"
   ]
  },
  {
   "cell_type": "code",
   "execution_count": null,
   "metadata": {
    "collapsed": true,
    "deletable": true,
    "editable": true
   },
   "outputs": [],
   "source": [
    "with rasterio.open(Water_1331_0515_fn) as image:\n",
    "    Water_1331_0515_ds = image.read()\n",
    "    Water_1331_0515 = Water_1331_0515_ds[0] # RMSE\n",
    "\n",
    "Water_1331_0515[Water_1331_0515 < 0] = 0\n",
    "Water_1331_0515[Water_1331_0515 > 0] = 1\n",
    "\n",
    "# write difference to raster\n",
    "in_ds = gdal.Open(Water_1331_0515_fn, gdal.GA_ReadOnly)\n",
    "output_fn = '../paper_data/product_comp/p013r031_watermask.tif'\n",
    "\n",
    "out_driver = gdal.GetDriverByName(\"GTiff\")\n",
    "out_ds = out_driver.Create(output_fn, \n",
    "                           Water_1331_0515.shape[1],  # x size\n",
    "                           Water_1331_0515.shape[0],  # y size\n",
    "                           1,  # number of bands\n",
    "                           gdal.GDT_Int16)\n",
    "out_ds.SetProjection(in_ds.GetProjection())\n",
    "out_ds.SetGeoTransform(in_ds.GetGeoTransform())\n",
    "out_ds.GetRasterBand(1).WriteArray(Water_1331_0515)\n",
    "out_ds.GetRasterBand(1).SetNoDataValue(0)\n",
    "#out_ds.GetRasterBand(1).SetColorTable(ct)\n",
    "out_ds.GetRasterBand(1).SetDescription('Water mask - p013r031')\n",
    "out_ds = None"
   ]
  }
 ],
 "metadata": {
  "anaconda-cloud": {},
  "kernelspec": {
   "display_name": "Python 2",
   "language": "python",
   "name": "python2"
  },
  "language_info": {
   "codemirror_mode": {
    "name": "ipython",
    "version": 2
   },
   "file_extension": ".py",
   "mimetype": "text/x-python",
   "name": "python",
   "nbconvert_exporter": "python",
   "pygments_lexer": "ipython2",
   "version": "2.7.12"
  }
 },
 "nbformat": 4,
 "nbformat_minor": 1
}
