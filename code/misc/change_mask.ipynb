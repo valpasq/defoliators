{
 "cells": [
  {
   "cell_type": "code",
   "execution_count": 1,
   "metadata": {
    "collapsed": true,
    "deletable": true,
    "editable": true
   },
   "outputs": [],
   "source": [
    "%matplotlib inline\n",
    "\n",
    "import numpy as np\n",
    "import rasterio\n",
    "from osgeo import gdal, gdal_array"
   ]
  },
  {
   "cell_type": "code",
   "execution_count": 15,
   "metadata": {
    "collapsed": true,
    "deletable": true,
    "editable": true
   },
   "outputs": [],
   "source": [
    "# Water mask\n",
    "fn = '/projectnb/landsat/projects/Massachusetts/Invasives/datasets/CCDC_1985-01-01_2005-12-31_change_num.tif'"
   ]
  },
  {
   "cell_type": "code",
   "execution_count": 16,
   "metadata": {
    "collapsed": false,
    "deletable": true,
    "editable": true
   },
   "outputs": [],
   "source": [
    "with rasterio.open(fn) as image:\n",
    "    ds = image.read(1)\n",
    "\n",
    "ds[ds <= 0] = 0\n",
    "ds[ds > 0] = 1\n",
    "\n",
    "# write difference to raster\n",
    "in_ds = gdal.Open(fn, gdal.GA_ReadOnly)\n",
    "output_fn = '/projectnb/landsat/projects/Massachusetts/Invasives/datasets/CCDC_1985-01-01_2005-12-31_change_num_binary.tif'\n",
    "\n",
    "out_driver = gdal.GetDriverByName(\"GTiff\")\n",
    "out_ds = out_driver.Create(output_fn, \n",
    "                           ds.shape[1],  # x size\n",
    "                           ds.shape[0],  # y size\n",
    "                           1,  # number of bands\n",
    "                           gdal.GDT_Int16)\n",
    "out_ds.SetProjection(in_ds.GetProjection())\n",
    "out_ds.SetGeoTransform(in_ds.GetGeoTransform())\n",
    "out_ds.GetRasterBand(1).WriteArray(ds)\n",
    "#out_ds.GetRasterBand(1).SetNoDataValue(0)\n",
    "#out_ds.GetRasterBand(1).SetColorTable(ct)\n",
    "#out_ds.GetRasterBand(1).SetDescription('Water mask - p012r031')\n",
    "out_ds = None"
   ]
  },
  {
   "cell_type": "code",
   "execution_count": null,
   "metadata": {
    "collapsed": false
   },
   "outputs": [],
   "source": []
  },
  {
   "cell_type": "code",
   "execution_count": null,
   "metadata": {
    "collapsed": true,
    "deletable": true,
    "editable": true
   },
   "outputs": [],
   "source": []
  }
 ],
 "metadata": {
  "anaconda-cloud": {},
  "kernelspec": {
   "display_name": "Python 2",
   "language": "python",
   "name": "python2"
  },
  "language_info": {
   "codemirror_mode": {
    "name": "ipython",
    "version": 2
   },
   "file_extension": ".py",
   "mimetype": "text/x-python",
   "name": "python",
   "nbconvert_exporter": "python",
   "pygments_lexer": "ipython2",
   "version": "2.7.12"
  }
 },
 "nbformat": 4,
 "nbformat_minor": 1
}
