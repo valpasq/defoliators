{
 "cells": [
  {
   "cell_type": "code",
   "execution_count": 1,
   "metadata": {
    "collapsed": false,
    "deletable": true,
    "editable": true
   },
   "outputs": [],
   "source": [
    "%matplotlib inline\n",
    "\n",
    "import numpy as np\n",
    "import pandas as pd\n",
    "\n",
    "from osgeo import gdal, gdal_array\n",
    "import rasterio\n",
    "\n",
    "import matplotlib.pyplot as plt\n",
    "plt.style.use('ggplot') \n",
    "\n",
    "import scipy.stats as stats"
   ]
  },
  {
   "cell_type": "markdown",
   "metadata": {
    "collapsed": true,
    "deletable": true,
    "editable": true
   },
   "source": [
    "## Start workflow"
   ]
  },
  {
   "cell_type": "code",
   "execution_count": 24,
   "metadata": {
    "collapsed": false,
    "deletable": true,
    "editable": true
   },
   "outputs": [
    {
     "data": {
      "text/html": [
       "<div>\n",
       "<table border=\"1\" class=\"dataframe\">\n",
       "  <thead>\n",
       "    <tr style=\"text-align: right;\">\n",
       "      <th></th>\n",
       "      <th>WRS2</th>\n",
       "      <th>date</th>\n",
       "      <th>img_obs_fn</th>\n",
       "      <th>img_pred_fn</th>\n",
       "      <th>rmse_G</th>\n",
       "      <th>rmse_W</th>\n",
       "    </tr>\n",
       "  </thead>\n",
       "  <tbody>\n",
       "    <tr>\n",
       "      <th>0</th>\n",
       "      <td>p012r031</td>\n",
       "      <td>2016-171</td>\n",
       "      <td>/projectnb/landsat/projects/Massachusetts/p012...</td>\n",
       "      <td>/projectnb/landsat/projects/Massachusetts/defo...</td>\n",
       "      <td>/projectnb/landsat/projects/Massachusetts/defo...</td>\n",
       "      <td>/projectnb/landsat/projects/Massachusetts/defo...</td>\n",
       "    </tr>\n",
       "    <tr>\n",
       "      <th>1</th>\n",
       "      <td>p012r031</td>\n",
       "      <td>2016-179</td>\n",
       "      <td>/projectnb/landsat/projects/Massachusetts/p012...</td>\n",
       "      <td>/projectnb/landsat/projects/Massachusetts/Moth...</td>\n",
       "      <td>/projectnb/landsat/projects/Massachusetts/Moth...</td>\n",
       "      <td>/projectnb/landsat/projects/Massachusetts/Moth...</td>\n",
       "    </tr>\n",
       "    <tr>\n",
       "      <th>2</th>\n",
       "      <td>p012r031</td>\n",
       "      <td>2016-195</td>\n",
       "      <td>/projectnb/landsat/projects/Massachusetts/p012...</td>\n",
       "      <td>/projectnb/landsat/projects/Massachusetts/Moth...</td>\n",
       "      <td>/projectnb/landsat/projects/Massachusetts/Moth...</td>\n",
       "      <td>/projectnb/landsat/projects/Massachusetts/Moth...</td>\n",
       "    </tr>\n",
       "    <tr>\n",
       "      <th>3</th>\n",
       "      <td>p012r031</td>\n",
       "      <td>2016-203</td>\n",
       "      <td>/projectnb/landsat/projects/Massachusetts/p012...</td>\n",
       "      <td>/projectnb/landsat/projects/Massachusetts/Moth...</td>\n",
       "      <td>/projectnb/landsat/projects/Massachusetts/Moth...</td>\n",
       "      <td>/projectnb/landsat/projects/Massachusetts/Moth...</td>\n",
       "    </tr>\n",
       "    <tr>\n",
       "      <th>4</th>\n",
       "      <td>p012r031</td>\n",
       "      <td>2016-227</td>\n",
       "      <td>/projectnb/landsat/projects/Massachusetts/p012...</td>\n",
       "      <td>/projectnb/landsat/projects/Massachusetts/Moth...</td>\n",
       "      <td>/projectnb/landsat/projects/Massachusetts/Moth...</td>\n",
       "      <td>/projectnb/landsat/projects/Massachusetts/Moth...</td>\n",
       "    </tr>\n",
       "    <tr>\n",
       "      <th>5</th>\n",
       "      <td>p012r031</td>\n",
       "      <td>2016-235</td>\n",
       "      <td>/projectnb/landsat/projects/Massachusetts/p012...</td>\n",
       "      <td>/projectnb/landsat/projects/Massachusetts/Moth...</td>\n",
       "      <td>/projectnb/landsat/projects/Massachusetts/Moth...</td>\n",
       "      <td>/projectnb/landsat/projects/Massachusetts/Moth...</td>\n",
       "    </tr>\n",
       "    <tr>\n",
       "      <th>6</th>\n",
       "      <td>p012r031</td>\n",
       "      <td>2016-243</td>\n",
       "      <td>/projectnb/landsat/projects/Massachusetts/p012...</td>\n",
       "      <td>/projectnb/landsat/projects/Massachusetts/Moth...</td>\n",
       "      <td>/projectnb/landsat/projects/Massachusetts/Moth...</td>\n",
       "      <td>/projectnb/landsat/projects/Massachusetts/Moth...</td>\n",
       "    </tr>\n",
       "    <tr>\n",
       "      <th>7</th>\n",
       "      <td>p013r031</td>\n",
       "      <td>2016-154</td>\n",
       "      <td>/projectnb/landsat/projects/Massachusetts/p013...</td>\n",
       "      <td>/projectnb/landsat/projects/Massachusetts/Moth...</td>\n",
       "      <td>/projectnb/landsat/projects/Massachusetts/Moth...</td>\n",
       "      <td>/projectnb/landsat/projects/Massachusetts/Moth...</td>\n",
       "    </tr>\n",
       "    <tr>\n",
       "      <th>8</th>\n",
       "      <td>p013r031</td>\n",
       "      <td>2016-170</td>\n",
       "      <td>/projectnb/landsat/projects/Massachusetts/p013...</td>\n",
       "      <td>/projectnb/landsat/projects/Massachusetts/Moth...</td>\n",
       "      <td>/projectnb/landsat/projects/Massachusetts/Moth...</td>\n",
       "      <td>/projectnb/landsat/projects/Massachusetts/Moth...</td>\n",
       "    </tr>\n",
       "    <tr>\n",
       "      <th>9</th>\n",
       "      <td>p013r031</td>\n",
       "      <td>2016-178</td>\n",
       "      <td>/projectnb/landsat/projects/Massachusetts/p013...</td>\n",
       "      <td>/projectnb/landsat/projects/Massachusetts/Moth...</td>\n",
       "      <td>/projectnb/landsat/projects/Massachusetts/Moth...</td>\n",
       "      <td>/projectnb/landsat/projects/Massachusetts/Moth...</td>\n",
       "    </tr>\n",
       "    <tr>\n",
       "      <th>10</th>\n",
       "      <td>p013r031</td>\n",
       "      <td>2016-186</td>\n",
       "      <td>/projectnb/landsat/projects/Massachusetts/p013...</td>\n",
       "      <td>/projectnb/landsat/projects/Massachusetts/Moth...</td>\n",
       "      <td>/projectnb/landsat/projects/Massachusetts/Moth...</td>\n",
       "      <td>/projectnb/landsat/projects/Massachusetts/Moth...</td>\n",
       "    </tr>\n",
       "    <tr>\n",
       "      <th>11</th>\n",
       "      <td>p013r031</td>\n",
       "      <td>2016-194</td>\n",
       "      <td>/projectnb/landsat/projects/Massachusetts/p013...</td>\n",
       "      <td>/projectnb/landsat/projects/Massachusetts/Moth...</td>\n",
       "      <td>/projectnb/landsat/projects/Massachusetts/Moth...</td>\n",
       "      <td>/projectnb/landsat/projects/Massachusetts/Moth...</td>\n",
       "    </tr>\n",
       "    <tr>\n",
       "      <th>12</th>\n",
       "      <td>p013r031</td>\n",
       "      <td>2016-202</td>\n",
       "      <td>/projectnb/landsat/projects/Massachusetts/p013...</td>\n",
       "      <td>/projectnb/landsat/projects/Massachusetts/Moth...</td>\n",
       "      <td>/projectnb/landsat/projects/Massachusetts/Moth...</td>\n",
       "      <td>/projectnb/landsat/projects/Massachusetts/Moth...</td>\n",
       "    </tr>\n",
       "    <tr>\n",
       "      <th>13</th>\n",
       "      <td>p013r031</td>\n",
       "      <td>2016-218</td>\n",
       "      <td>/projectnb/landsat/projects/Massachusetts/p013...</td>\n",
       "      <td>/projectnb/landsat/projects/Massachusetts/Moth...</td>\n",
       "      <td>/projectnb/landsat/projects/Massachusetts/Moth...</td>\n",
       "      <td>/projectnb/landsat/projects/Massachusetts/Moth...</td>\n",
       "    </tr>\n",
       "    <tr>\n",
       "      <th>14</th>\n",
       "      <td>p013r031</td>\n",
       "      <td>2016-242</td>\n",
       "      <td>/projectnb/landsat/projects/Massachusetts/p013...</td>\n",
       "      <td>/projectnb/landsat/projects/Massachusetts/Moth...</td>\n",
       "      <td>/projectnb/landsat/projects/Massachusetts/Moth...</td>\n",
       "      <td>/projectnb/landsat/projects/Massachusetts/Moth...</td>\n",
       "    </tr>\n",
       "    <tr>\n",
       "      <th>15</th>\n",
       "      <td>p013r031</td>\n",
       "      <td>2016-258</td>\n",
       "      <td>/projectnb/landsat/projects/Massachusetts/p013...</td>\n",
       "      <td>/projectnb/landsat/projects/Massachusetts/Moth...</td>\n",
       "      <td>/projectnb/landsat/projects/Massachusetts/Moth...</td>\n",
       "      <td>/projectnb/landsat/projects/Massachusetts/Moth...</td>\n",
       "    </tr>\n",
       "    <tr>\n",
       "      <th>16</th>\n",
       "      <td>p013r031</td>\n",
       "      <td>2016-266</td>\n",
       "      <td>/projectnb/landsat/projects/Massachusetts/p013...</td>\n",
       "      <td>/projectnb/landsat/projects/Massachusetts/Moth...</td>\n",
       "      <td>/projectnb/landsat/projects/Massachusetts/Moth...</td>\n",
       "      <td>/projectnb/landsat/projects/Massachusetts/Moth...</td>\n",
       "    </tr>\n",
       "    <tr>\n",
       "      <th>17</th>\n",
       "      <td>p012r031</td>\n",
       "      <td>2015-176</td>\n",
       "      <td>/projectnb/landsat/projects/Massachusetts/p012...</td>\n",
       "      <td>/projectnb/landsat/projects/Massachusetts/Moth...</td>\n",
       "      <td>/projectnb/landsat/projects/Massachusetts/Moth...</td>\n",
       "      <td>/projectnb/landsat/projects/Massachusetts/Moth...</td>\n",
       "    </tr>\n",
       "    <tr>\n",
       "      <th>18</th>\n",
       "      <td>p012r031</td>\n",
       "      <td>2015-184</td>\n",
       "      <td>/projectnb/landsat/projects/Massachusetts/p012...</td>\n",
       "      <td>/projectnb/landsat/projects/Massachusetts/Moth...</td>\n",
       "      <td>/projectnb/landsat/projects/Massachusetts/Moth...</td>\n",
       "      <td>/projectnb/landsat/projects/Massachusetts/Moth...</td>\n",
       "    </tr>\n",
       "    <tr>\n",
       "      <th>19</th>\n",
       "      <td>p012r031</td>\n",
       "      <td>2015-192</td>\n",
       "      <td>/projectnb/landsat/projects/Massachusetts/p012...</td>\n",
       "      <td>/projectnb/landsat/projects/Massachusetts/Moth...</td>\n",
       "      <td>/projectnb/landsat/projects/Massachusetts/Moth...</td>\n",
       "      <td>/projectnb/landsat/projects/Massachusetts/Moth...</td>\n",
       "    </tr>\n",
       "    <tr>\n",
       "      <th>20</th>\n",
       "      <td>p012r031</td>\n",
       "      <td>2015-200</td>\n",
       "      <td>/projectnb/landsat/projects/Massachusetts/p012...</td>\n",
       "      <td>/projectnb/landsat/projects/Massachusetts/Moth...</td>\n",
       "      <td>/projectnb/landsat/projects/Massachusetts/Moth...</td>\n",
       "      <td>/projectnb/landsat/projects/Massachusetts/Moth...</td>\n",
       "    </tr>\n",
       "    <tr>\n",
       "      <th>21</th>\n",
       "      <td>p012r031</td>\n",
       "      <td>2015-216</td>\n",
       "      <td>/projectnb/landsat/projects/Massachusetts/p012...</td>\n",
       "      <td>/projectnb/landsat/projects/Massachusetts/Moth...</td>\n",
       "      <td>/projectnb/landsat/projects/Massachusetts/Moth...</td>\n",
       "      <td>/projectnb/landsat/projects/Massachusetts/Moth...</td>\n",
       "    </tr>\n",
       "    <tr>\n",
       "      <th>22</th>\n",
       "      <td>p012r031</td>\n",
       "      <td>2015-224</td>\n",
       "      <td>/projectnb/landsat/projects/Massachusetts/p012...</td>\n",
       "      <td>/projectnb/landsat/projects/Massachusetts/Moth...</td>\n",
       "      <td>/projectnb/landsat/projects/Massachusetts/Moth...</td>\n",
       "      <td>/projectnb/landsat/projects/Massachusetts/Moth...</td>\n",
       "    </tr>\n",
       "    <tr>\n",
       "      <th>23</th>\n",
       "      <td>p012r031</td>\n",
       "      <td>2015-232</td>\n",
       "      <td>/projectnb/landsat/projects/Massachusetts/p012...</td>\n",
       "      <td>/projectnb/landsat/projects/Massachusetts/Moth...</td>\n",
       "      <td>/projectnb/landsat/projects/Massachusetts/Moth...</td>\n",
       "      <td>/projectnb/landsat/projects/Massachusetts/Moth...</td>\n",
       "    </tr>\n",
       "    <tr>\n",
       "      <th>24</th>\n",
       "      <td>p012r031</td>\n",
       "      <td>2015-240</td>\n",
       "      <td>/projectnb/landsat/projects/Massachusetts/p012...</td>\n",
       "      <td>/projectnb/landsat/projects/Massachusetts/Moth...</td>\n",
       "      <td>/projectnb/landsat/projects/Massachusetts/Moth...</td>\n",
       "      <td>/projectnb/landsat/projects/Massachusetts/Moth...</td>\n",
       "    </tr>\n",
       "    <tr>\n",
       "      <th>25</th>\n",
       "      <td>p012r031</td>\n",
       "      <td>2015-248</td>\n",
       "      <td>/projectnb/landsat/projects/Massachusetts/p012...</td>\n",
       "      <td>/projectnb/landsat/projects/Massachusetts/Moth...</td>\n",
       "      <td>/projectnb/landsat/projects/Massachusetts/Moth...</td>\n",
       "      <td>/projectnb/landsat/projects/Massachusetts/Moth...</td>\n",
       "    </tr>\n",
       "    <tr>\n",
       "      <th>26</th>\n",
       "      <td>p013r031</td>\n",
       "      <td>2015-183</td>\n",
       "      <td>/projectnb/landsat/projects/Massachusetts/p013...</td>\n",
       "      <td>/projectnb/landsat/projects/Massachusetts/Moth...</td>\n",
       "      <td>/projectnb/landsat/projects/Massachusetts/Moth...</td>\n",
       "      <td>/projectnb/landsat/projects/Massachusetts/Moth...</td>\n",
       "    </tr>\n",
       "    <tr>\n",
       "      <th>27</th>\n",
       "      <td>p013r031</td>\n",
       "      <td>2015-191</td>\n",
       "      <td>/projectnb/landsat/projects/Massachusetts/p013...</td>\n",
       "      <td>/projectnb/landsat/projects/Massachusetts/Moth...</td>\n",
       "      <td>/projectnb/landsat/projects/Massachusetts/Moth...</td>\n",
       "      <td>/projectnb/landsat/projects/Massachusetts/Moth...</td>\n",
       "    </tr>\n",
       "    <tr>\n",
       "      <th>28</th>\n",
       "      <td>p013r031</td>\n",
       "      <td>2015-215</td>\n",
       "      <td>/projectnb/landsat/projects/Massachusetts/p013...</td>\n",
       "      <td>/projectnb/landsat/projects/Massachusetts/Moth...</td>\n",
       "      <td>/projectnb/landsat/projects/Massachusetts/Moth...</td>\n",
       "      <td>/projectnb/landsat/projects/Massachusetts/Moth...</td>\n",
       "    </tr>\n",
       "    <tr>\n",
       "      <th>29</th>\n",
       "      <td>p013r031</td>\n",
       "      <td>2015-231</td>\n",
       "      <td>/projectnb/landsat/projects/Massachusetts/p013...</td>\n",
       "      <td>/projectnb/landsat/projects/Massachusetts/Moth...</td>\n",
       "      <td>/projectnb/landsat/projects/Massachusetts/Moth...</td>\n",
       "      <td>/projectnb/landsat/projects/Massachusetts/Moth...</td>\n",
       "    </tr>\n",
       "    <tr>\n",
       "      <th>30</th>\n",
       "      <td>p013r031</td>\n",
       "      <td>2015-247</td>\n",
       "      <td>/projectnb/landsat/projects/Massachusetts/p013...</td>\n",
       "      <td>/projectnb/landsat/projects/Massachusetts/Moth...</td>\n",
       "      <td>/projectnb/landsat/projects/Massachusetts/Moth...</td>\n",
       "      <td>/projectnb/landsat/projects/Massachusetts/Moth...</td>\n",
       "    </tr>\n",
       "    <tr>\n",
       "      <th>31</th>\n",
       "      <td>p013r031</td>\n",
       "      <td>2015-255</td>\n",
       "      <td>/projectnb/landsat/projects/Massachusetts/p013...</td>\n",
       "      <td>/projectnb/landsat/projects/Massachusetts/Moth...</td>\n",
       "      <td>/projectnb/landsat/projects/Massachusetts/Moth...</td>\n",
       "      <td>/projectnb/landsat/projects/Massachusetts/Moth...</td>\n",
       "    </tr>\n",
       "    <tr>\n",
       "      <th>32</th>\n",
       "      <td>p013r031</td>\n",
       "      <td>2015-263</td>\n",
       "      <td>/projectnb/landsat/projects/Massachusetts/p013...</td>\n",
       "      <td>/projectnb/landsat/projects/Massachusetts/Moth...</td>\n",
       "      <td>/projectnb/landsat/projects/Massachusetts/Moth...</td>\n",
       "      <td>/projectnb/landsat/projects/Massachusetts/Moth...</td>\n",
       "    </tr>\n",
       "  </tbody>\n",
       "</table>\n",
       "</div>"
      ],
      "text/plain": [
       "        WRS2      date                                         img_obs_fn  \\\n",
       "0   p012r031  2016-171  /projectnb/landsat/projects/Massachusetts/p012...   \n",
       "1   p012r031  2016-179  /projectnb/landsat/projects/Massachusetts/p012...   \n",
       "2   p012r031  2016-195  /projectnb/landsat/projects/Massachusetts/p012...   \n",
       "3   p012r031  2016-203  /projectnb/landsat/projects/Massachusetts/p012...   \n",
       "4   p012r031  2016-227  /projectnb/landsat/projects/Massachusetts/p012...   \n",
       "5   p012r031  2016-235  /projectnb/landsat/projects/Massachusetts/p012...   \n",
       "6   p012r031  2016-243  /projectnb/landsat/projects/Massachusetts/p012...   \n",
       "7   p013r031  2016-154  /projectnb/landsat/projects/Massachusetts/p013...   \n",
       "8   p013r031  2016-170  /projectnb/landsat/projects/Massachusetts/p013...   \n",
       "9   p013r031  2016-178  /projectnb/landsat/projects/Massachusetts/p013...   \n",
       "10  p013r031  2016-186  /projectnb/landsat/projects/Massachusetts/p013...   \n",
       "11  p013r031  2016-194  /projectnb/landsat/projects/Massachusetts/p013...   \n",
       "12  p013r031  2016-202  /projectnb/landsat/projects/Massachusetts/p013...   \n",
       "13  p013r031  2016-218  /projectnb/landsat/projects/Massachusetts/p013...   \n",
       "14  p013r031  2016-242  /projectnb/landsat/projects/Massachusetts/p013...   \n",
       "15  p013r031  2016-258  /projectnb/landsat/projects/Massachusetts/p013...   \n",
       "16  p013r031  2016-266  /projectnb/landsat/projects/Massachusetts/p013...   \n",
       "17  p012r031  2015-176  /projectnb/landsat/projects/Massachusetts/p012...   \n",
       "18  p012r031  2015-184  /projectnb/landsat/projects/Massachusetts/p012...   \n",
       "19  p012r031  2015-192  /projectnb/landsat/projects/Massachusetts/p012...   \n",
       "20  p012r031  2015-200  /projectnb/landsat/projects/Massachusetts/p012...   \n",
       "21  p012r031  2015-216  /projectnb/landsat/projects/Massachusetts/p012...   \n",
       "22  p012r031  2015-224  /projectnb/landsat/projects/Massachusetts/p012...   \n",
       "23  p012r031  2015-232  /projectnb/landsat/projects/Massachusetts/p012...   \n",
       "24  p012r031  2015-240  /projectnb/landsat/projects/Massachusetts/p012...   \n",
       "25  p012r031  2015-248  /projectnb/landsat/projects/Massachusetts/p012...   \n",
       "26  p013r031  2015-183  /projectnb/landsat/projects/Massachusetts/p013...   \n",
       "27  p013r031  2015-191  /projectnb/landsat/projects/Massachusetts/p013...   \n",
       "28  p013r031  2015-215  /projectnb/landsat/projects/Massachusetts/p013...   \n",
       "29  p013r031  2015-231  /projectnb/landsat/projects/Massachusetts/p013...   \n",
       "30  p013r031  2015-247  /projectnb/landsat/projects/Massachusetts/p013...   \n",
       "31  p013r031  2015-255  /projectnb/landsat/projects/Massachusetts/p013...   \n",
       "32  p013r031  2015-263  /projectnb/landsat/projects/Massachusetts/p013...   \n",
       "\n",
       "                                          img_pred_fn  \\\n",
       "0   /projectnb/landsat/projects/Massachusetts/defo...   \n",
       "1   /projectnb/landsat/projects/Massachusetts/Moth...   \n",
       "2   /projectnb/landsat/projects/Massachusetts/Moth...   \n",
       "3   /projectnb/landsat/projects/Massachusetts/Moth...   \n",
       "4   /projectnb/landsat/projects/Massachusetts/Moth...   \n",
       "5   /projectnb/landsat/projects/Massachusetts/Moth...   \n",
       "6   /projectnb/landsat/projects/Massachusetts/Moth...   \n",
       "7   /projectnb/landsat/projects/Massachusetts/Moth...   \n",
       "8   /projectnb/landsat/projects/Massachusetts/Moth...   \n",
       "9   /projectnb/landsat/projects/Massachusetts/Moth...   \n",
       "10  /projectnb/landsat/projects/Massachusetts/Moth...   \n",
       "11  /projectnb/landsat/projects/Massachusetts/Moth...   \n",
       "12  /projectnb/landsat/projects/Massachusetts/Moth...   \n",
       "13  /projectnb/landsat/projects/Massachusetts/Moth...   \n",
       "14  /projectnb/landsat/projects/Massachusetts/Moth...   \n",
       "15  /projectnb/landsat/projects/Massachusetts/Moth...   \n",
       "16  /projectnb/landsat/projects/Massachusetts/Moth...   \n",
       "17  /projectnb/landsat/projects/Massachusetts/Moth...   \n",
       "18  /projectnb/landsat/projects/Massachusetts/Moth...   \n",
       "19  /projectnb/landsat/projects/Massachusetts/Moth...   \n",
       "20  /projectnb/landsat/projects/Massachusetts/Moth...   \n",
       "21  /projectnb/landsat/projects/Massachusetts/Moth...   \n",
       "22  /projectnb/landsat/projects/Massachusetts/Moth...   \n",
       "23  /projectnb/landsat/projects/Massachusetts/Moth...   \n",
       "24  /projectnb/landsat/projects/Massachusetts/Moth...   \n",
       "25  /projectnb/landsat/projects/Massachusetts/Moth...   \n",
       "26  /projectnb/landsat/projects/Massachusetts/Moth...   \n",
       "27  /projectnb/landsat/projects/Massachusetts/Moth...   \n",
       "28  /projectnb/landsat/projects/Massachusetts/Moth...   \n",
       "29  /projectnb/landsat/projects/Massachusetts/Moth...   \n",
       "30  /projectnb/landsat/projects/Massachusetts/Moth...   \n",
       "31  /projectnb/landsat/projects/Massachusetts/Moth...   \n",
       "32  /projectnb/landsat/projects/Massachusetts/Moth...   \n",
       "\n",
       "                                               rmse_G  \\\n",
       "0   /projectnb/landsat/projects/Massachusetts/defo...   \n",
       "1   /projectnb/landsat/projects/Massachusetts/Moth...   \n",
       "2   /projectnb/landsat/projects/Massachusetts/Moth...   \n",
       "3   /projectnb/landsat/projects/Massachusetts/Moth...   \n",
       "4   /projectnb/landsat/projects/Massachusetts/Moth...   \n",
       "5   /projectnb/landsat/projects/Massachusetts/Moth...   \n",
       "6   /projectnb/landsat/projects/Massachusetts/Moth...   \n",
       "7   /projectnb/landsat/projects/Massachusetts/Moth...   \n",
       "8   /projectnb/landsat/projects/Massachusetts/Moth...   \n",
       "9   /projectnb/landsat/projects/Massachusetts/Moth...   \n",
       "10  /projectnb/landsat/projects/Massachusetts/Moth...   \n",
       "11  /projectnb/landsat/projects/Massachusetts/Moth...   \n",
       "12  /projectnb/landsat/projects/Massachusetts/Moth...   \n",
       "13  /projectnb/landsat/projects/Massachusetts/Moth...   \n",
       "14  /projectnb/landsat/projects/Massachusetts/Moth...   \n",
       "15  /projectnb/landsat/projects/Massachusetts/Moth...   \n",
       "16  /projectnb/landsat/projects/Massachusetts/Moth...   \n",
       "17  /projectnb/landsat/projects/Massachusetts/Moth...   \n",
       "18  /projectnb/landsat/projects/Massachusetts/Moth...   \n",
       "19  /projectnb/landsat/projects/Massachusetts/Moth...   \n",
       "20  /projectnb/landsat/projects/Massachusetts/Moth...   \n",
       "21  /projectnb/landsat/projects/Massachusetts/Moth...   \n",
       "22  /projectnb/landsat/projects/Massachusetts/Moth...   \n",
       "23  /projectnb/landsat/projects/Massachusetts/Moth...   \n",
       "24  /projectnb/landsat/projects/Massachusetts/Moth...   \n",
       "25  /projectnb/landsat/projects/Massachusetts/Moth...   \n",
       "26  /projectnb/landsat/projects/Massachusetts/Moth...   \n",
       "27  /projectnb/landsat/projects/Massachusetts/Moth...   \n",
       "28  /projectnb/landsat/projects/Massachusetts/Moth...   \n",
       "29  /projectnb/landsat/projects/Massachusetts/Moth...   \n",
       "30  /projectnb/landsat/projects/Massachusetts/Moth...   \n",
       "31  /projectnb/landsat/projects/Massachusetts/Moth...   \n",
       "32  /projectnb/landsat/projects/Massachusetts/Moth...   \n",
       "\n",
       "                                               rmse_W  \n",
       "0   /projectnb/landsat/projects/Massachusetts/defo...  \n",
       "1   /projectnb/landsat/projects/Massachusetts/Moth...  \n",
       "2   /projectnb/landsat/projects/Massachusetts/Moth...  \n",
       "3   /projectnb/landsat/projects/Massachusetts/Moth...  \n",
       "4   /projectnb/landsat/projects/Massachusetts/Moth...  \n",
       "5   /projectnb/landsat/projects/Massachusetts/Moth...  \n",
       "6   /projectnb/landsat/projects/Massachusetts/Moth...  \n",
       "7   /projectnb/landsat/projects/Massachusetts/Moth...  \n",
       "8   /projectnb/landsat/projects/Massachusetts/Moth...  \n",
       "9   /projectnb/landsat/projects/Massachusetts/Moth...  \n",
       "10  /projectnb/landsat/projects/Massachusetts/Moth...  \n",
       "11  /projectnb/landsat/projects/Massachusetts/Moth...  \n",
       "12  /projectnb/landsat/projects/Massachusetts/Moth...  \n",
       "13  /projectnb/landsat/projects/Massachusetts/Moth...  \n",
       "14  /projectnb/landsat/projects/Massachusetts/Moth...  \n",
       "15  /projectnb/landsat/projects/Massachusetts/Moth...  \n",
       "16  /projectnb/landsat/projects/Massachusetts/Moth...  \n",
       "17  /projectnb/landsat/projects/Massachusetts/Moth...  \n",
       "18  /projectnb/landsat/projects/Massachusetts/Moth...  \n",
       "19  /projectnb/landsat/projects/Massachusetts/Moth...  \n",
       "20  /projectnb/landsat/projects/Massachusetts/Moth...  \n",
       "21  /projectnb/landsat/projects/Massachusetts/Moth...  \n",
       "22  /projectnb/landsat/projects/Massachusetts/Moth...  \n",
       "23  /projectnb/landsat/projects/Massachusetts/Moth...  \n",
       "24  /projectnb/landsat/projects/Massachusetts/Moth...  \n",
       "25  /projectnb/landsat/projects/Massachusetts/Moth...  \n",
       "26  /projectnb/landsat/projects/Massachusetts/Moth...  \n",
       "27  /projectnb/landsat/projects/Massachusetts/Moth...  \n",
       "28  /projectnb/landsat/projects/Massachusetts/Moth...  \n",
       "29  /projectnb/landsat/projects/Massachusetts/Moth...  \n",
       "30  /projectnb/landsat/projects/Massachusetts/Moth...  \n",
       "31  /projectnb/landsat/projects/Massachusetts/Moth...  \n",
       "32  /projectnb/landsat/projects/Massachusetts/Moth...  "
      ]
     },
     "execution_count": 24,
     "metadata": {},
     "output_type": "execute_result"
    }
   ],
   "source": [
    "img_list = pd.read_csv('../config/moths_datasets_0515.csv')\n",
    "img_list"
   ]
  },
  {
   "cell_type": "code",
   "execution_count": null,
   "metadata": {
    "collapsed": true,
    "deletable": true,
    "editable": true
   },
   "outputs": [],
   "source": []
  },
  {
   "cell_type": "code",
   "execution_count": null,
   "metadata": {
    "collapsed": false,
    "deletable": true,
    "editable": true
   },
   "outputs": [],
   "source": []
  },
  {
   "cell_type": "code",
   "execution_count": 17,
   "metadata": {
    "collapsed": false,
    "deletable": true,
    "editable": true
   },
   "outputs": [],
   "source": [
    "img_id = 0"
   ]
  },
  {
   "cell_type": "code",
   "execution_count": 25,
   "metadata": {
    "collapsed": false,
    "deletable": true,
    "editable": true
   },
   "outputs": [],
   "source": [
    "# Observed image\n",
    "#img_obs_fn = '/projectnb/landsat/projects/Massachusetts/p012r031/images/LE70120312016171EDC01/LE70120312016171EDC01_all'\n",
    "img_obs_fn = img_list['img_obs_fn'][img_id]\n",
    "# Predicted image\n",
    "#img_pred_fn = '/projectnb/landsat/projects/Massachusetts/Moths/paper_data/p012r031/moths_paper_3_prediction_2016-171_qa.tif'\n",
    "img_pred_fn = img_list['img_pred_fn'][img_id]\n",
    "\n",
    "#date = '2016-171'\n",
    "date = img_list['date'][img_id]\n",
    "#WRS2 = 'p012r031'\n",
    "WRS2 = img_list['WRS2'][img_id]\n",
    "\n",
    "rmse_G_fn = img_list['rmse_G'][img_id]\n",
    "rmse_W_fn = img_list['rmse_W'][img_id]"
   ]
  },
  {
   "cell_type": "markdown",
   "metadata": {
    "deletable": true,
    "editable": true
   },
   "source": [
    "## Read in observed image"
   ]
  },
  {
   "cell_type": "code",
   "execution_count": 26,
   "metadata": {
    "collapsed": false,
    "deletable": true,
    "editable": true
   },
   "outputs": [],
   "source": [
    "with rasterio.open(img_obs_fn) as image:\n",
    "    obs_ds = image.read()\n",
    "    obs_G = obs_ds[8] # Greenness\n",
    "    obs_W = obs_ds[9] # Wetness\n",
    "    obs_mask = obs_ds[10] # Fmask result"
   ]
  },
  {
   "cell_type": "code",
   "execution_count": 27,
   "metadata": {
    "collapsed": false,
    "deletable": true,
    "editable": true
   },
   "outputs": [
    {
     "name": "stdout",
     "output_type": "stream",
     "text": [
      "(7151, 7411)\n"
     ]
    }
   ],
   "source": [
    "# Print image dimensions\n",
    "print(obs_G.shape)\n",
    "\n",
    "# Visualize image data\n",
    "#plt.imshow(obs_G)\n",
    "#plt.colorbar()\n",
    "#plt.show()"
   ]
  },
  {
   "cell_type": "markdown",
   "metadata": {
    "deletable": true,
    "editable": true
   },
   "source": [
    "## Read in predicted image"
   ]
  },
  {
   "cell_type": "code",
   "execution_count": 28,
   "metadata": {
    "collapsed": false,
    "deletable": true,
    "editable": true
   },
   "outputs": [],
   "source": [
    "with rasterio.open(img_pred_fn) as image:\n",
    "    pred_ds = image.read()\n",
    "    pred_G = pred_ds[8] # Predicted Greenness\n",
    "    pred_W = pred_ds[9] # Predicted Wetness"
   ]
  },
  {
   "cell_type": "code",
   "execution_count": 30,
   "metadata": {
    "collapsed": false,
    "deletable": true,
    "editable": true
   },
   "outputs": [
    {
     "name": "stdout",
     "output_type": "stream",
     "text": [
      "(7151, 7411)\n"
     ]
    }
   ],
   "source": [
    "# Print image dimensions\n",
    "print(pred_G.shape)\n",
    "\n",
    "# Visualize image data\n",
    "#plt.imshow(pred_G)\n",
    "#plt.colorbar()\n",
    "#plt.show()"
   ]
  },
  {
   "cell_type": "markdown",
   "metadata": {
    "deletable": true,
    "editable": true
   },
   "source": [
    "## Read in RMSE"
   ]
  },
  {
   "cell_type": "code",
   "execution_count": 31,
   "metadata": {
    "collapsed": false,
    "deletable": true,
    "editable": true
   },
   "outputs": [],
   "source": [
    "with rasterio.open(rmse_G_fn) as image:\n",
    "    rmse_G_ds = image.read()\n",
    "    rmse_G = rmse_G_ds[4] # RMSE"
   ]
  },
  {
   "cell_type": "code",
   "execution_count": 32,
   "metadata": {
    "collapsed": false,
    "deletable": true,
    "editable": true
   },
   "outputs": [],
   "source": [
    "with rasterio.open(rmse_W_fn) as image:\n",
    "    rmse_W_ds = image.read()\n",
    "    rmse_W = rmse_W_ds[4] # RMSE"
   ]
  },
  {
   "cell_type": "markdown",
   "metadata": {
    "collapsed": true,
    "deletable": true,
    "editable": true
   },
   "source": [
    "## Difference observed and predicted"
   ]
  },
  {
   "cell_type": "code",
   "execution_count": 36,
   "metadata": {
    "collapsed": false,
    "deletable": true,
    "editable": true
   },
   "outputs": [
    {
     "data": {
      "image/png": "[encoded data removed]",
      "text/plain": [
       "<matplotlib.figure.Figure at 0x7f1d884a2dd0>"
      ]
     },
     "metadata": {},
     "output_type": "display_data"
    }
   ],
   "source": [
    "diff_G = (obs_G - pred_G) # subtract\n",
    "diff_W = (obs_W - pred_W) # subtract\n",
    "\n",
    "diff_G_stand = (obs_G - pred_G) / rmse_G # subtract\n",
    "diff_W_stand = (obs_W - pred_W) / rmse_W # subtract\n",
    "\n",
    "# Visualize difference images\n",
    "plt.imshow(diff_G)\n",
    "plt.colorbar()\n",
    "plt.show()\n",
    "\n",
    "#plt.imshow(diff_W)\n",
    "#plt.colorbar()\n",
    "#plt.show()"
   ]
  },
  {
   "cell_type": "code",
   "execution_count": 37,
   "metadata": {
    "collapsed": true
   },
   "outputs": [],
   "source": [
    "nodata = -9999"
   ]
  },
  {
   "cell_type": "code",
   "execution_count": 38,
   "metadata": {
    "collapsed": false,
    "deletable": true,
    "editable": true
   },
   "outputs": [],
   "source": [
    "diff_G[obs_mask > 0] = nodata\n",
    "diff_G[diff_G < -9999] = nodata"
   ]
  },
  {
   "cell_type": "code",
   "execution_count": 39,
   "metadata": {
    "collapsed": false,
    "deletable": true,
    "editable": true
   },
   "outputs": [
    {
     "name": "stdout",
     "output_type": "stream",
     "text": [
      "(52996061,)\n",
      "(52996061,)\n",
      "(52996061,)\n",
      "255\n"
     ]
    }
   ],
   "source": [
    "# Reshape image data for masking\n",
    "diff_G_re = diff_G.reshape(diff_G.size)\n",
    "diff_G_stand_re = diff_G_stand.reshape(diff_G_stand.size)\n",
    "print(diff_G_re.shape)\n",
    "\n",
    "diff_W_re = diff_W.reshape(diff_W.size)\n",
    "diff_W_stand_re = diff_W_stand.reshape(diff_W_stand.size)\n",
    "print(diff_W_re.shape)\n",
    "\n",
    "mask_re = obs_mask.reshape(obs_mask.size)\n",
    "print(mask_re.shape)\n",
    "print(mask_re).max()"
   ]
  },
  {
   "cell_type": "code",
   "execution_count": null,
   "metadata": {
    "collapsed": false,
    "deletable": true,
    "editable": true
   },
   "outputs": [],
   "source": []
  },
  {
   "cell_type": "code",
   "execution_count": 40,
   "metadata": {
    "collapsed": false,
    "deletable": true,
    "editable": true
   },
   "outputs": [],
   "source": [
    "diff_G_re[np.where(mask_re > 0)] = -9999\n",
    "diff_G_re[np.where(diff_G_re < -9999)] = -9999\n",
    "\n",
    "diff_G_stand_re[np.where(mask_re > 0)] = -9999\n",
    "diff_G_stand_re[np.where(diff_G_re < -9999)] = -9999\n",
    "\n",
    "diff_W_re[np.where(mask_re > 0)] = -9999\n",
    "diff_W_re[np.where(diff_W_re < -9999)] = -9999\n",
    "\n",
    "diff_W_stand_re[np.where(mask_re > 0)] = -9999\n",
    "diff_W_stand_re[np.where(diff_G_re < -9999)] = -9999"
   ]
  },
  {
   "cell_type": "code",
   "execution_count": 41,
   "metadata": {
    "collapsed": false,
    "deletable": true,
    "editable": true
   },
   "outputs": [
    {
     "name": "stdout",
     "output_type": "stream",
     "text": [
      "-9999\n",
      "-9999\n"
     ]
    }
   ],
   "source": [
    "diff_G_final = diff_G_re.reshape(diff_G.shape)\n",
    "print(diff_G_final.min())\n",
    "diff_G_stand_final = diff_G_stand_re.reshape(diff_G_stand.shape)\n",
    "\n",
    "diff_W_final = diff_W_re.reshape(diff_W.shape)\n",
    "print(diff_W_final.min())\n",
    "diff_W_stand_final = diff_W_stand_re.reshape(diff_W_stand.shape)"
   ]
  },
  {
   "cell_type": "code",
   "execution_count": 42,
   "metadata": {
    "collapsed": false,
    "deletable": true,
    "editable": true
   },
   "outputs": [
    {
     "data": {
      "image/png": "[encoded data removed]",
      "text/plain": [
       "<matplotlib.figure.Figure at 0x7f1d4248c190>"
      ]
     },
     "metadata": {},
     "output_type": "display_data"
    },
    {
     "data": {
      "image/png": "[encoded data removed]",
      "text/plain": [
       "<matplotlib.figure.Figure at 0x7f1d88492ed0>"
      ]
     },
     "metadata": {},
     "output_type": "display_data"
    }
   ],
   "source": [
    "plt.imshow(diff_G_stand_final)\n",
    "plt.colorbar()\n",
    "plt.show()\n",
    "\n",
    "plt.imshow(diff_W_stand_final)\n",
    "plt.colorbar()\n",
    "plt.show()"
   ]
  },
  {
   "cell_type": "code",
   "execution_count": null,
   "metadata": {
    "collapsed": false,
    "deletable": true,
    "editable": true
   },
   "outputs": [],
   "source": [
    "in_ds = gdal.Open(img_obs_fn, gdal.GA_ReadOnly)\n",
    "output_fn = 'TEST_{WRS2}_{date}_diff_G.tif'.format(date=date, WRS2=WRS2)\n",
    "\n",
    "out_driver = gdal.GetDriverByName(\"GTiff\")\n",
    "out_ds = out_driver.Create(output_fn, \n",
    "                           diff_G.shape[1],  # x size\n",
    "                           diff_G.shape[0],  # y size\n",
    "                           1,  # number of bands\n",
    "                           gdal.GDT_Int16)\n",
    "out_ds.SetProjection(in_ds.GetProjection())\n",
    "out_ds.SetGeoTransform(in_ds.GetGeoTransform())\n",
    "out_ds.GetRasterBand(1).WriteArray(diff_G)\n",
    "out_ds.GetRasterBand(1).SetNoDataValue(-9999)\n",
    "#out_ds.GetRasterBand(1).SetColorTable(ct)\n",
    "out_ds.GetRasterBand(1).SetDescription('results')\n",
    "out_ds = None"
   ]
  },
  {
   "cell_type": "code",
   "execution_count": null,
   "metadata": {
    "collapsed": true,
    "deletable": true,
    "editable": true
   },
   "outputs": [],
   "source": [
    "in_ds = gdal.Open(img_obs_fn, gdal.GA_ReadOnly)\n",
    "output_fn = '{WRS2}_{date}_diff_G_standardized.tif'.format(date=date, WRS2=WRS2)\n",
    "\n",
    "out_driver = gdal.GetDriverByName(\"GTiff\")\n",
    "out_ds = out_driver.Create(output_fn, \n",
    "                           diff_G.shape[1],  # x size\n",
    "                           diff_G.shape[0],  # y size\n",
    "                           1,  # number of bands\n",
    "                           gdal.GDT_Float32)\n",
    "out_ds.SetProjection(in_ds.GetProjection())\n",
    "out_ds.SetGeoTransform(in_ds.GetGeoTransform())\n",
    "out_ds.GetRasterBand(1).WriteArray(diff_G_stand_final)\n",
    "out_ds.GetRasterBand(1).SetNoDataValue(-9999)\n",
    "#out_ds.GetRasterBand(1).SetColorTable(ct)\n",
    "out_ds.GetRasterBand(1).SetDescription('results')\n",
    "out_ds = None"
   ]
  },
  {
   "cell_type": "code",
   "execution_count": null,
   "metadata": {
    "collapsed": false,
    "deletable": true,
    "editable": true
   },
   "outputs": [],
   "source": [
    "in_ds = gdal.Open(img_obs_fn, gdal.GA_ReadOnly)\n",
    "output_fn = '{WRS2}_{date}_diff_W.tif'.format(date=date, WRS2=WRS2)\n",
    "\n",
    "out_driver = gdal.GetDriverByName(\"GTiff\")\n",
    "out_ds = out_driver.Create(output_fn, \n",
    "                           diff_W.shape[1],  # x size\n",
    "                           diff_W.shape[0],  # y size\n",
    "                           1,  # number of bands\n",
    "                           gdal.GDT_Int16)\n",
    "out_ds.SetProjection(in_ds.GetProjection())\n",
    "out_ds.SetGeoTransform(in_ds.GetGeoTransform())\n",
    "out_ds.GetRasterBand(1).WriteArray(diff_W_final)\n",
    "out_ds.GetRasterBand(1).SetNoDataValue(-9999)\n",
    "#out_ds.GetRasterBand(1).SetColorTable(ct)\n",
    "out_ds.GetRasterBand(1).SetDescription('results')\n",
    "out_ds = None"
   ]
  },
  {
   "cell_type": "code",
   "execution_count": null,
   "metadata": {
    "collapsed": true,
    "deletable": true,
    "editable": true
   },
   "outputs": [],
   "source": [
    "in_ds = gdal.Open(img_obs_fn, gdal.GA_ReadOnly)\n",
    "output_fn = '{WRS2}_{date}_diff_W_standardized.tif'.format(date=date, WRS2=WRS2)\n",
    "\n",
    "out_driver = gdal.GetDriverByName(\"GTiff\")\n",
    "out_ds = out_driver.Create(output_fn, \n",
    "                           diff_W.shape[1],  # x size\n",
    "                           diff_W.shape[0],  # y size\n",
    "                           1,  # number of bands\n",
    "                           gdal.GDT_Float32)\n",
    "out_ds.SetProjection(in_ds.GetProjection())\n",
    "out_ds.SetGeoTransform(in_ds.GetGeoTransform())\n",
    "out_ds.GetRasterBand(1).WriteArray(diff_W_stand_final)\n",
    "out_ds.GetRasterBand(1).SetNoDataValue(-9999)\n",
    "#out_ds.GetRasterBand(1).SetColorTable(ct)\n",
    "out_ds.GetRasterBand(1).SetDescription('results')\n",
    "out_ds = None"
   ]
  },
  {
   "cell_type": "code",
   "execution_count": null,
   "metadata": {
    "collapsed": false,
    "deletable": true,
    "editable": true
   },
   "outputs": [],
   "source": []
  },
  {
   "cell_type": "code",
   "execution_count": null,
   "metadata": {
    "collapsed": false,
    "deletable": true,
    "editable": true
   },
   "outputs": [],
   "source": []
  },
  {
   "cell_type": "code",
   "execution_count": null,
   "metadata": {
    "collapsed": true,
    "deletable": true,
    "editable": true
   },
   "outputs": [],
   "source": []
  },
  {
   "cell_type": "code",
   "execution_count": null,
   "metadata": {
    "collapsed": true,
    "deletable": true,
    "editable": true
   },
   "outputs": [],
   "source": []
  }
 ],
 "metadata": {
  "anaconda-cloud": {},
  "kernelspec": {
   "display_name": "Python 2",
   "language": "python",
   "name": "python2"
  },
  "language_info": {
   "codemirror_mode": {
    "name": "ipython",
    "version": 2
   },
   "file_extension": ".py",
   "mimetype": "text/x-python",
   "name": "python",
   "nbconvert_exporter": "python",
   "pygments_lexer": "ipython2",
   "version": "2.7.12"
  }
 },
 "nbformat": 4,
 "nbformat_minor": 0
}
